{
 "cells": [
  {
   "cell_type": "code",
   "execution_count": 1,
   "metadata": {},
   "outputs": [],
   "source": [
    "import pandas as pd\n",
    "import numpy as np\n",
    "import matplotlib.pyplot as plt\n",
    "import seaborn as sns\n",
    "import os"
   ]
  },
  {
   "cell_type": "markdown",
   "metadata": {},
   "source": [
    "# Create dataset for Lyrics Generation"
   ]
  },
  {
   "cell_type": "code",
   "execution_count": 2,
   "metadata": {},
   "outputs": [],
   "source": [
    "# create a csv file with the lyrics of the songs\n",
    "genres = [\"rap\"]\n",
    "indie_lyrics = []\n",
    "metal_lyrics = []\n",
    "pop_lyrics = []\n",
    "rap_lyrics = []\n",
    "rock_lyrics = []\n",
    "\n",
    "for genre in genres:\n",
    " for artist in os.listdir(f\"./LLM_LyricsGeneration/dataset/{genre}\"):\n",
    "   if (artist == \".DS_Store\"):\n",
    "     continue\n",
    "   for song in os.listdir(f\"./LLM_LyricsGeneration/dataset/{genre}/{artist}\"):\n",
    "     with open(f\"./LLM_LyricsGeneration/dataset/{genre}/{artist}/{song}\", \"r\") as file:\n",
    "      data = {}\n",
    "      data['lyrics'] = file.read()\n",
    "      data['genre'] = genre\n",
    "      data['artist'] = artist\n",
    "\n",
    "      if genre == \"indie\":\n",
    "        indie_lyrics.append(data)\n",
    "      elif genre == \"metal\":\n",
    "        metal_lyrics.append(data)\n",
    "      elif genre == \"pop\":\n",
    "        pop_lyrics.append(data)\n",
    "      elif genre == \"rap\":\n",
    "        rap_lyrics.append(data)\n",
    "      elif genre == \"rock\":\n",
    "        rock_lyrics.append(data)\n",
    "      "
   ]
  },
  {
   "cell_type": "code",
   "execution_count": 3,
   "metadata": {},
   "outputs": [],
   "source": [
    "##shuffle the data and split it into train and test keeping the same distribution of genres\n",
    "np.random.shuffle(indie_lyrics)\n",
    "np.random.shuffle(metal_lyrics)\n",
    "np.random.shuffle(pop_lyrics)\n",
    "np.random.shuffle(rap_lyrics)\n",
    "np.random.shuffle(rock_lyrics)\n",
    "\n",
    "train_indie = indie_lyrics[:int(len(indie_lyrics)*0.8)]\n",
    "test_indie = indie_lyrics[int(len(indie_lyrics)*0.8):]\n",
    "\n",
    "train_metal = metal_lyrics[:int(len(metal_lyrics)*0.8)]\n",
    "test_metal = metal_lyrics[int(len(metal_lyrics)*0.8):]\n",
    "\n",
    "train_pop = pop_lyrics[:int(len(pop_lyrics)*0.8)]\n",
    "test_pop = pop_lyrics[int(len(pop_lyrics)*0.8):]\n",
    "\n",
    "train_rap = rap_lyrics[:int(len(rap_lyrics)*0.8)]\n",
    "test_rap = rap_lyrics[int(len(rap_lyrics)*0.8):]\n",
    "\n",
    "train_rock = rock_lyrics[:int(len(rock_lyrics)*0.8)]\n",
    "test_rock = rock_lyrics[int(len(rock_lyrics)*0.8):]\n",
    "\n",
    "train = train_indie + train_metal + train_pop + train_rap + train_rock\n",
    "test = test_indie + test_metal + test_pop + test_rap + test_rock\n",
    "\n",
    "train_df = pd.DataFrame(train)\n",
    "test_df = pd.DataFrame(test)"
   ]
  },
  {
   "cell_type": "code",
   "execution_count": 12,
   "metadata": {},
   "outputs": [],
   "source": [
    "train_df['text'] = train_df['text'].apply(lambda x: x + \" </s>\")\n",
    "test_df['text'] = test_df['text'].apply(lambda x: x + \" </s>\")"
   ]
  },
  {
   "cell_type": "code",
   "execution_count": 14,
   "metadata": {},
   "outputs": [],
   "source": [
    "## save df to tsv\n",
    "train_df.to_csv(\"train_dataset_rap.tsv\", sep=\"\\t\", index=False)\n",
    "test_df.to_csv(\"test_dataset_rap.tsv\", sep=\"\\t\", index=False)"
   ]
  },
  {
   "cell_type": "markdown",
   "metadata": {},
   "source": [
    "# Create dataset for Lyrics Completion"
   ]
  },
  {
   "cell_type": "code",
   "execution_count": 3,
   "metadata": {},
   "outputs": [],
   "source": [
    "genres = [\"rap\"]\n",
    "rap_lyrics = []\n",
    "\n",
    "for genre in genres:\n",
    " for artist in os.listdir(f\"./LLM_LyricsGeneration/dataset/{genre}\"):\n",
    "   if (artist == \".DS_Store\"):\n",
    "     continue\n",
    "   for song in os.listdir(f\"./LLM_LyricsGeneration/dataset/{genre}/{artist}\"):\n",
    "     with open(f\"./LLM_LyricsGeneration/dataset/{genre}/{artist}/{song}\", \"r\") as file:\n",
    "      data = {}\n",
    "      data['lyrics'] = file.read()\n",
    "      data['genre'] = genre\n",
    "      data['artist'] = artist\n",
    "\n",
    "      if genre == \"rap\":\n",
    "        rap_lyrics.append(data)"
   ]
  },
  {
   "cell_type": "code",
   "execution_count": 6,
   "metadata": {},
   "outputs": [],
   "source": [
    "for elem in rap_lyrics:\n",
    "  lyrics = elem['lyrics']\n",
    "  lyrics_splitted = lyrics.split(\"\\n\")\n",
    "  elem['lyrics'] = lyrics_splitted"
   ]
  },
  {
   "cell_type": "code",
   "execution_count": 15,
   "metadata": {},
   "outputs": [],
   "source": [
    "## create a dataframe with columns artist, genre, lyric. Each row is a verse of a song\n",
    "rap_df = pd.DataFrame(rap_lyrics)\n",
    "rap_df = rap_df.explode('lyrics')\n",
    "rap_df = rap_df.dropna()\n",
    "rap_df = rap_df.rename(columns={'lyrics': 'text'})\n",
    "\n",
    "## save df to tsv\n",
    "rap_df.to_csv(\"rap_dataset_for_completion.tsv\", sep=\"\\t\", index=False)"
   ]
  }
 ],
 "metadata": {
  "kernelspec": {
   "display_name": "data_mining",
   "language": "python",
   "name": "python3"
  },
  "language_info": {
   "codemirror_mode": {
    "name": "ipython",
    "version": 3
   },
   "file_extension": ".py",
   "mimetype": "text/x-python",
   "name": "python",
   "nbconvert_exporter": "python",
   "pygments_lexer": "ipython3",
   "version": "3.10.0"
  }
 },
 "nbformat": 4,
 "nbformat_minor": 2
}
